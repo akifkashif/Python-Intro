{
  "nbformat": 4,
  "nbformat_minor": 0,
  "metadata": {
    "colab": {
      "provenance": []
    },
    "kernelspec": {
      "name": "python3",
      "display_name": "Python 3"
    },
    "language_info": {
      "name": "python"
    }
  },
  "cells": [
    {
      "cell_type": "markdown",
      "source": [
        "# This program prints Hello, world!"
      ],
      "metadata": {
        "id": "ghaR5CANK_ee"
      }
    },
    {
      "cell_type": "code",
      "execution_count": 1,
      "metadata": {
        "colab": {
          "base_uri": "https://localhost:8080/"
        },
        "id": "hAyxBiR1K7jl",
        "outputId": "78ba553f-7223-4316-bf30-b72742c03e9f"
      },
      "outputs": [
        {
          "output_type": "stream",
          "name": "stdout",
          "text": [
            "Hello, world!\n"
          ]
        }
      ],
      "source": [
        "print('Hello, world!')\n"
      ]
    },
    {
      "cell_type": "markdown",
      "source": [
        "# This program adds two numbers\n",
        "\n"
      ],
      "metadata": {
        "id": "kncuBbLsLCxh"
      }
    },
    {
      "cell_type": "code",
      "source": [
        "\n",
        "num1 = 1.5\n",
        "num2 = 6.3\n",
        "sum = num1 + num2\n",
        "\n",
        "# Display the sum\n",
        "print(sum)"
      ],
      "metadata": {
        "colab": {
          "base_uri": "https://localhost:8080/"
        },
        "id": "VqYdpdRjLJHz",
        "outputId": "17384a30-3941-494f-dd61-00b5e48feebe"
      },
      "execution_count": 2,
      "outputs": [
        {
          "output_type": "stream",
          "name": "stdout",
          "text": [
            "7.8\n"
          ]
        }
      ]
    },
    {
      "cell_type": "markdown",
      "source": [
        "# Python Program to calculate the square root\n",
        "\n"
      ],
      "metadata": {
        "id": "-swiC7fCLYWy"
      }
    },
    {
      "cell_type": "code",
      "source": [
        "\n",
        "num = float(input('Enter a number: '))\n",
        "\n",
        "num_sqrt = num ** 0.5\n",
        "print(num_sqrt)"
      ],
      "metadata": {
        "colab": {
          "base_uri": "https://localhost:8080/"
        },
        "id": "vQaWXB7RLSml",
        "outputId": "e76e3157-c97d-48b9-d934-5cf9ce3bd5d6"
      },
      "execution_count": 3,
      "outputs": [
        {
          "output_type": "stream",
          "name": "stdout",
          "text": [
            "Enter a number: 9\n",
            "3.0\n"
          ]
        }
      ]
    },
    {
      "cell_type": "markdown",
      "source": [
        "\n",
        "Python Program to Calculate the Area of a Triangle\n",
        "In this program, you'll learn to calculate the area of a triangle and display it.\n",
        "\n"
      ],
      "metadata": {
        "id": "O9EPuVauLm_r"
      }
    },
    {
      "cell_type": "code",
      "source": [
        "\n",
        "#vertices\n",
        "a = float(input('Enter first side: '))\n",
        "b = float(input('Enter second side: '))\n",
        "c = float(input('Enter third side: '))\n",
        "\n",
        "# calculate the semi-perimeter\n",
        "s = (a + b + c) / 2\n",
        "\n",
        "# calculate the area\n",
        "area = (s*(s-a)*(s-b)*(s-c)) ** 0.5\n",
        "print(area)"
      ],
      "metadata": {
        "colab": {
          "base_uri": "https://localhost:8080/"
        },
        "id": "Gq5ziZ2GLg66",
        "outputId": "df2b936a-dbf9-4258-98a6-68090ab59431"
      },
      "execution_count": 5,
      "outputs": [
        {
          "output_type": "stream",
          "name": "stdout",
          "text": [
            "Enter first side: 4\n",
            "Enter second side: 4\n",
            "Enter third side: 4\n",
            "6.928203230275509\n"
          ]
        }
      ]
    },
    {
      "cell_type": "markdown",
      "source": [
        "# Solve the quadratic equation ax**2 + bx + c = 0"
      ],
      "metadata": {
        "id": "v75EkKUNMAAt"
      }
    },
    {
      "cell_type": "code",
      "source": [
        "\n",
        "\n",
        "# import complex math module\n",
        "import cmath\n",
        "\n",
        "a = 1\n",
        "b = 5\n",
        "c = 6\n",
        "\n",
        "# calculate the discriminant\n",
        "d = (b**2) - (4*a*c)\n",
        "\n",
        "# find two solutions\n",
        "sol1 = (-b-cmath.sqrt(d))/(2*a)\n",
        "sol2 = (-b+cmath.sqrt(d))/(2*a)\n",
        "\n",
        "print('The solution are {0} and {1}'.format(sol1,sol2))\n"
      ],
      "metadata": {
        "colab": {
          "base_uri": "https://localhost:8080/"
        },
        "id": "mbGguAjnL0Rh",
        "outputId": "8e39a51f-5d0a-4cb9-90cf-114778092ce6"
      },
      "execution_count": 6,
      "outputs": [
        {
          "output_type": "stream",
          "name": "stdout",
          "text": [
            "The solution are (-3+0j) and (-2+0j)\n"
          ]
        }
      ]
    },
    {
      "cell_type": "markdown",
      "source": [
        "# Swap two variables"
      ],
      "metadata": {
        "id": "TTEWh_v3MOwN"
      }
    },
    {
      "cell_type": "code",
      "source": [
        "x = 5\n",
        "y = 10\n",
        "\n",
        "x, y = y, x\n",
        "print(\"x =\", x)\n",
        "print(\"y =\", y)"
      ],
      "metadata": {
        "colab": {
          "base_uri": "https://localhost:8080/"
        },
        "id": "MgOG2Zk0MI1m",
        "outputId": "277bf409-914c-4016-a37f-b061e6a65a09"
      },
      "execution_count": 7,
      "outputs": [
        {
          "output_type": "stream",
          "name": "stdout",
          "text": [
            "x = 10\n",
            "y = 5\n"
          ]
        }
      ]
    },
    {
      "cell_type": "markdown",
      "source": [
        "# Python program to check if the input number is odd or even.\n"
      ],
      "metadata": {
        "id": "6GHdQUboMXk1"
      }
    },
    {
      "cell_type": "code",
      "source": [
        "num = int(input(\"Enter a number: \"))\n",
        "if (num % 2) == 0:\n",
        "   print(\"{0} is Even\".format(num))\n",
        "else:\n",
        "   print(\"{0} is Odd\".format(num))"
      ],
      "metadata": {
        "colab": {
          "base_uri": "https://localhost:8080/"
        },
        "id": "RHhKGnkcMRdl",
        "outputId": "3742d3d0-caa7-4af9-f440-c74c4fe11afe"
      },
      "execution_count": 8,
      "outputs": [
        {
          "output_type": "stream",
          "name": "stdout",
          "text": [
            "Enter a number: 26\n",
            "26 is Even\n"
          ]
        }
      ]
    },
    {
      "cell_type": "markdown",
      "source": [
        "# Check whether its a prime number"
      ],
      "metadata": {
        "id": "Jqib8mDrMnmG"
      }
    },
    {
      "cell_type": "code",
      "source": [
        "\n",
        "num = int(input(\"Enter a number: \"))\n",
        "\n",
        "if num == 1:\n",
        "    print(num, \"is not a prime number\")\n",
        "elif num > 1:\n",
        "   for i in range(2,num):\n",
        "       if (num % i) == 0:\n",
        "           print(num,\"is not a prime number\")\n",
        "           break\n",
        "   else:\n",
        "       print(num,\"is a prime number\")\n",
        "else:\n",
        "   print(num,\"is not a prime number\")"
      ],
      "metadata": {
        "colab": {
          "base_uri": "https://localhost:8080/"
        },
        "id": "cTxrRwqeMhXi",
        "outputId": "091123cc-2fe3-47d1-86ae-73b20e534516"
      },
      "execution_count": 10,
      "outputs": [
        {
          "output_type": "stream",
          "name": "stdout",
          "text": [
            "Enter a number: 11\n",
            "11 is a prime number\n"
          ]
        }
      ]
    },
    {
      "cell_type": "markdown",
      "source": [
        "# Factorial of a number"
      ],
      "metadata": {
        "id": "-ODcZam6NSYV"
      }
    },
    {
      "cell_type": "code",
      "source": [
        "\n",
        "num = int(input(\"Enter a number: \"))\n",
        "\n",
        "factorial = 1\n",
        "\n",
        "if num < 0:\n",
        "   print(\"Sorry, factorial does not exist for negative numbers\")\n",
        "elif num == 0:\n",
        "   print(\"The factorial of 0 is 1\")\n",
        "else:\n",
        "   for i in range(1,num + 1):\n",
        "       factorial = factorial*i\n",
        "   print(factorial)"
      ],
      "metadata": {
        "colab": {
          "base_uri": "https://localhost:8080/"
        },
        "id": "dzXshjfWM59G",
        "outputId": "741c9278-3e2f-4947-fc43-de0d87e6f162"
      },
      "execution_count": 11,
      "outputs": [
        {
          "output_type": "stream",
          "name": "stdout",
          "text": [
            "Enter a number: 4\n",
            "24\n"
          ]
        }
      ]
    },
    {
      "cell_type": "markdown",
      "source": [
        "Check whether a number is an armstrong number"
      ],
      "metadata": {
        "id": "_pZIYAnqNl56"
      }
    },
    {
      "cell_type": "code",
      "source": [
        "# take input from the user\n",
        "num = int(input(\"Enter a number: \"))\n",
        "\n",
        "# initialize sum\n",
        "sum = 0\n",
        "\n",
        "# find the sum of the cube of each digit\n",
        "temp = num\n",
        "while temp > 0:\n",
        "   digit = temp % 10\n",
        "   sum += digit ** 3\n",
        "   temp //= 10\n",
        "\n",
        "# display the result\n",
        "if num == sum:\n",
        "   print(num,\"is an Armstrong number\")\n",
        "else:\n",
        "   print(num,\"is not an Armstrong number\")"
      ],
      "metadata": {
        "colab": {
          "base_uri": "https://localhost:8080/"
        },
        "id": "vfOuTD3ZNcVh",
        "outputId": "fe064462-8acc-469f-fdfb-a362cfc9a540"
      },
      "execution_count": 16,
      "outputs": [
        {
          "output_type": "stream",
          "name": "stdout",
          "text": [
            "Enter a number: 153\n",
            "153 is an Armstrong number\n"
          ]
        }
      ]
    },
    {
      "cell_type": "markdown",
      "source": [
        "# Sum of first n natural number"
      ],
      "metadata": {
        "id": "2zWvT6j7N-1f"
      }
    },
    {
      "cell_type": "code",
      "source": [
        "num = int(input())\n",
        "\n",
        "if num < 0:\n",
        "   print(\"Enter a positive number\")\n",
        "else:\n",
        "   sum = 0\n",
        "   while(num > 0):\n",
        "       sum += num\n",
        "       num -= 1\n",
        "   print(\"The sum is\", sum)"
      ],
      "metadata": {
        "colab": {
          "base_uri": "https://localhost:8080/"
        },
        "id": "f5SaHYddNrpK",
        "outputId": "d5bf62ea-72c6-41af-fcf5-40aeae97bb83"
      },
      "execution_count": 18,
      "outputs": [
        {
          "output_type": "stream",
          "name": "stdout",
          "text": [
            "6\n",
            "The sum is 21\n"
          ]
        }
      ]
    },
    {
      "cell_type": "markdown",
      "source": [
        "# Python Program to find the factors of a number\n"
      ],
      "metadata": {
        "id": "7nRvCW8VOU8Q"
      }
    },
    {
      "cell_type": "code",
      "source": [
        "\n",
        "def print_factors(x):\n",
        "   print(\"The factors of\",x,\"are:\")\n",
        "   for i in range(1, x + 1):\n",
        "       if x % i == 0:\n",
        "           print(i)\n",
        "\n",
        "print_factors(9)"
      ],
      "metadata": {
        "colab": {
          "base_uri": "https://localhost:8080/"
        },
        "id": "zXAU5X3MODI4",
        "outputId": "dd7d6456-a2fa-4176-d6e8-8dc199373af9"
      },
      "execution_count": 19,
      "outputs": [
        {
          "output_type": "stream",
          "name": "stdout",
          "text": [
            "The factors of 9 are:\n",
            "1\n",
            "3\n",
            "9\n"
          ]
        }
      ]
    },
    {
      "cell_type": "markdown",
      "source": [
        "# Palindrome Check"
      ],
      "metadata": {
        "id": "FgTYy-juO80g"
      }
    },
    {
      "cell_type": "code",
      "source": [
        "def palindrome(string):\n",
        "  if string == string[::-1]:\n",
        "    print('Its a palindrome')\n",
        "  else:\n",
        "    print('Not a palindrome')\n",
        "\n",
        "palindrome('malayalam')"
      ],
      "metadata": {
        "colab": {
          "base_uri": "https://localhost:8080/"
        },
        "id": "kQ9j8VUpObYh",
        "outputId": "644c75f0-3801-4d9b-aa13-55abec43c745"
      },
      "execution_count": 25,
      "outputs": [
        {
          "output_type": "stream",
          "name": "stdout",
          "text": [
            "Its a palindrome\n"
          ]
        }
      ]
    },
    {
      "cell_type": "markdown",
      "source": [
        "# Check for Perfect Number"
      ],
      "metadata": {
        "id": "NE1ueEljQHsK"
      }
    },
    {
      "cell_type": "code",
      "source": [
        "def perfectNumber(number):\n",
        "    sum = 0\n",
        "    for x in range(1, number):\n",
        "        if number % x == 0:\n",
        "            sum += x\n",
        "    return sum == number\n",
        "\n",
        "if __name__ == '__main__':\n",
        "    print(perfectNumber(6)) # True\n",
        "    print(perfectNumber(3)) # False"
      ],
      "metadata": {
        "colab": {
          "base_uri": "https://localhost:8080/"
        },
        "id": "0YDkPLODQLlk",
        "outputId": "45b4fb34-e684-44e7-d034-a72fd6c8b45b"
      },
      "execution_count": 39,
      "outputs": [
        {
          "output_type": "stream",
          "name": "stdout",
          "text": [
            "True\n",
            "False\n"
          ]
        }
      ]
    },
    {
      "cell_type": "markdown",
      "source": [
        "# Numpy Intro"
      ],
      "metadata": {
        "id": "Y7EHEJamPaPN"
      }
    },
    {
      "cell_type": "code",
      "source": [
        "import numpy as np\n",
        "\n",
        "# we have a function arange() which makes an array of the specified dimension. Example:\n",
        "myArray = np.arange(20)\n",
        "print(myArray)"
      ],
      "metadata": {
        "colab": {
          "base_uri": "https://localhost:8080/"
        },
        "id": "ilurZsE9OzeL",
        "outputId": "781d5500-93ec-4e67-d706-028c2b8a8ea8"
      },
      "execution_count": 27,
      "outputs": [
        {
          "output_type": "stream",
          "name": "stdout",
          "text": [
            "[ 0  1  2  3  4  5  6  7  8  9 10 11 12 13 14 15 16 17 18 19]\n"
          ]
        }
      ]
    },
    {
      "cell_type": "code",
      "source": [
        "# an array from 10 to 20\n",
        "myArray = np.arange(10, 20) # [10 11 12 13 14 15 16 17 18 19]\n",
        "print(myArray)"
      ],
      "metadata": {
        "colab": {
          "base_uri": "https://localhost:8080/"
        },
        "id": "cpn-aYQHPb-J",
        "outputId": "93814acd-10bd-4e89-b371-56bb5907024b"
      },
      "execution_count": 28,
      "outputs": [
        {
          "output_type": "stream",
          "name": "stdout",
          "text": [
            "[10 11 12 13 14 15 16 17 18 19]\n"
          ]
        }
      ]
    },
    {
      "cell_type": "code",
      "source": [
        "# an array from 10 to 20 with 2 steps\n",
        "myArray = np.arange(10, 20, 2)\n",
        "print(myArray)  "
      ],
      "metadata": {
        "colab": {
          "base_uri": "https://localhost:8080/"
        },
        "id": "GAuI1NjoPfZE",
        "outputId": "fcd42e93-c82e-4786-836a-3ea174aa8cb9"
      },
      "execution_count": 29,
      "outputs": [
        {
          "output_type": "stream",
          "name": "stdout",
          "text": [
            "[10 12 14 16 18]\n"
          ]
        }
      ]
    },
    {
      "cell_type": "code",
      "source": [
        "# reshape() helps to reshape our NumPy array\n",
        "myArray = np.arange(20)\n",
        "# syntax: reshape(number_of_rows, number_of_columns)\n",
        "myArray = myArray.reshape(4, 5)\n",
        "print(myArray)"
      ],
      "metadata": {
        "colab": {
          "base_uri": "https://localhost:8080/"
        },
        "id": "8u0D4VKdPhtD",
        "outputId": "a8c48e05-fc64-4492-efe5-98d2297c888b"
      },
      "execution_count": 30,
      "outputs": [
        {
          "output_type": "stream",
          "name": "stdout",
          "text": [
            "[[ 0  1  2  3  4]\n",
            " [ 5  6  7  8  9]\n",
            " [10 11 12 13 14]\n",
            " [15 16 17 18 19]]\n"
          ]
        }
      ]
    },
    {
      "cell_type": "code",
      "source": [
        "# shape returns the shape of the array. The length of shape tuple is called as rank (or dimension)\n",
        "print(myArray.shape) "
      ],
      "metadata": {
        "colab": {
          "base_uri": "https://localhost:8080/"
        },
        "id": "JayohUfqPj4Q",
        "outputId": "dfd9449f-0651-49d4-9051-92754c2efc14"
      },
      "execution_count": 31,
      "outputs": [
        {
          "output_type": "stream",
          "name": "stdout",
          "text": [
            "(4, 5)\n"
          ]
        }
      ]
    },
    {
      "cell_type": "code",
      "source": [
        "# ndim returns the dimension (rank) of the array\n",
        "print(myArray.ndim) "
      ],
      "metadata": {
        "colab": {
          "base_uri": "https://localhost:8080/"
        },
        "id": "aMmO7-Z0PoyJ",
        "outputId": "abbebd1e-fc26-4bba-f27f-b71406e15069"
      },
      "execution_count": 32,
      "outputs": [
        {
          "output_type": "stream",
          "name": "stdout",
          "text": [
            "2\n"
          ]
        }
      ]
    },
    {
      "cell_type": "code",
      "source": [
        "# size returns the total number of elements in the array\n",
        "print(myArray.size)  "
      ],
      "metadata": {
        "colab": {
          "base_uri": "https://localhost:8080/"
        },
        "id": "Mkz2L2ZHPqKe",
        "outputId": "6eac6413-8283-44dc-daef-82f308663916"
      },
      "execution_count": 33,
      "outputs": [
        {
          "output_type": "stream",
          "name": "stdout",
          "text": [
            "20\n"
          ]
        }
      ]
    },
    {
      "cell_type": "code",
      "source": [
        "# zeros creates an array will all zeros\n",
        "myArray = np.zeros((3, 4))\n",
        "print(myArray)"
      ],
      "metadata": {
        "colab": {
          "base_uri": "https://localhost:8080/"
        },
        "id": "dGeoPnOVPrxE",
        "outputId": "11153b2d-ceaf-4573-dfe7-533ccb0ec6b0"
      },
      "execution_count": 34,
      "outputs": [
        {
          "output_type": "stream",
          "name": "stdout",
          "text": [
            "[[0. 0. 0. 0.]\n",
            " [0. 0. 0. 0.]\n",
            " [0. 0. 0. 0.]]\n"
          ]
        }
      ]
    },
    {
      "cell_type": "code",
      "source": [
        "# ones creates an array with all ones\n",
        "myArray = np.ones((3, 4))\n",
        "print(myArray)\n"
      ],
      "metadata": {
        "colab": {
          "base_uri": "https://localhost:8080/"
        },
        "id": "vK6Hd3_BPt3W",
        "outputId": "acf9f6ba-7b37-4b7a-fa24-d003a4a13a84"
      },
      "execution_count": 35,
      "outputs": [
        {
          "output_type": "stream",
          "name": "stdout",
          "text": [
            "[[1. 1. 1. 1.]\n",
            " [1. 1. 1. 1.]\n",
            " [1. 1. 1. 1.]]\n"
          ]
        }
      ]
    },
    {
      "cell_type": "code",
      "source": [
        "# numpy random module helps to initialize array with random values\n",
        "myArray = np.random.rand(3, 4)\n",
        "print(myArray)"
      ],
      "metadata": {
        "colab": {
          "base_uri": "https://localhost:8080/"
        },
        "id": "G1ziMVqOPxY2",
        "outputId": "9232e6f0-4343-4b41-b555-c95486e4eeb4"
      },
      "execution_count": 36,
      "outputs": [
        {
          "output_type": "stream",
          "name": "stdout",
          "text": [
            "[[0.53697984 0.65368782 0.72623189 0.59250503]\n",
            " [0.87009843 0.95371987 0.69434202 0.02590512]\n",
            " [0.04777574 0.25354941 0.19812992 0.62655315]]\n"
          ]
        }
      ]
    },
    {
      "cell_type": "code",
      "source": [],
      "metadata": {
        "id": "qRFkUZTKPy5w"
      },
      "execution_count": null,
      "outputs": []
    }
  ]
}